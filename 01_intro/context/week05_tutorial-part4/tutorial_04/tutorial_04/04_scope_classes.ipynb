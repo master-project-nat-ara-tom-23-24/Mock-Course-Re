{
 "cells": [
  {
   "cell_type": "markdown",
   "id": "bf57aa47-665f-432a-9c8c-e60b34f0d01c",
   "metadata": {},
   "source": [
    "# Quick recap from last week\n",
    "\n",
    "### Ternary conditional operator"
   ]
  },
  {
   "cell_type": "code",
   "execution_count": 1,
   "id": "f30eba60-e5be-4747-8ff1-673c8ead19c6",
   "metadata": {},
   "outputs": [
    {
     "name": "stdout",
     "output_type": "stream",
     "text": [
      "5\n",
      "5\n"
     ]
    }
   ],
   "source": [
    "x = -5\n",
    "x_abs = x if x >= 0 else -x\n",
    "print(x_abs)\n",
    "# FYI, Python ships with an abs() function:\n",
    "print(abs(x))"
   ]
  },
  {
   "cell_type": "code",
   "execution_count": 2,
   "id": "e2c05d08-41c1-48c9-a309-d63cdd4c37bf",
   "metadata": {},
   "outputs": [
    {
     "data": {
      "text/plain": [
       "{'Alice': 5.75, 'Bob': 3.5, 'Linda': 6.0}"
      ]
     },
     "execution_count": 2,
     "metadata": {},
     "output_type": "execute_result"
    }
   ],
   "source": [
    "grades = {\"Alice\": 5.5, \"Bob\": 3.5, \"Linda\": 6.0}\n",
    "{name: grade + 0.25 if 4 <= grade <= 5.75 else grade for name, grade in grades.items()}"
   ]
  },
  {
   "cell_type": "markdown",
   "id": "0a7bf796-1f89-48b0-b51b-c6176517d711",
   "metadata": {},
   "source": [
    "### `None` and `NoneType`"
   ]
  },
  {
   "cell_type": "code",
   "execution_count": 3,
   "id": "28106f61-1da8-4f81-98aa-07e1a50eebeb",
   "metadata": {},
   "outputs": [
    {
     "name": "stdout",
     "output_type": "stream",
     "text": [
      "<class 'int'>\n",
      "<class 'bool'>\n",
      "<class 'NoneType'>\n"
     ]
    }
   ],
   "source": [
    "print(type(123))\n",
    "print(type(True))\n",
    "print(type(None))"
   ]
  },
  {
   "cell_type": "markdown",
   "id": "2452eee8-c5dd-4fac-807a-0c1b62ff7562",
   "metadata": {},
   "source": [
    "Functions in Python implicitly return `None` unless they explicitely return something else"
   ]
  },
  {
   "cell_type": "code",
   "execution_count": 4,
   "id": "64749450-1b15-4124-9447-9a0e12271bc9",
   "metadata": {},
   "outputs": [
    {
     "name": "stdout",
     "output_type": "stream",
     "text": [
      "11\n"
     ]
    }
   ],
   "source": [
    "def printing(x):\n",
    "    print(x + 1)        # this prints 11; the function eventually returns None after that\n",
    "printing(10)            # this evaluates to: None, so Jupyter doesn't print anything"
   ]
  },
  {
   "cell_type": "markdown",
   "id": "7f1c9dcd-3f83-4de3-a0e0-5f094ba6f511",
   "metadata": {},
   "source": [
    "The `print` function returns `None`"
   ]
  },
  {
   "cell_type": "code",
   "execution_count": 5,
   "id": "1bbedf88-c690-43cd-9e2a-579a8103d920",
   "metadata": {},
   "outputs": [
    {
     "name": "stdout",
     "output_type": "stream",
     "text": [
      "Hello\n",
      "None\n",
      "<class 'NoneType'>\n"
     ]
    }
   ],
   "source": [
    "def x():\n",
    "    return print(\"Hello\")\n",
    "result = x()\n",
    "print(result)\n",
    "print(type(result))"
   ]
  },
  {
   "cell_type": "markdown",
   "id": "fad32072-3484-4c9c-b524-4da4293320b9",
   "metadata": {},
   "source": [
    "### Early return"
   ]
  },
  {
   "cell_type": "code",
   "execution_count": 6,
   "id": "dba3c8a6-5c36-4be2-aa00-94299dbe67b9",
   "metadata": {},
   "outputs": [
    {
     "name": "stdout",
     "output_type": "stream",
     "text": [
      "(18.9667, 72.8333)\n",
      "None\n"
     ]
    }
   ],
   "source": [
    "my_cities = {\n",
    "    \"New York\":    (40.6943,  -73.9249),\n",
    "    \"Mumbai\":      (18.9667,   72.8333),\n",
    "}\n",
    "def find_city(cities, city):\n",
    "    if city not in cities:\n",
    "        return None            # function ends execution here if city was not in cities\n",
    "    return cities[city]        # this line is only reached if city IS in cities\n",
    "print(find_city(my_cities, \"Mumbai\"))\n",
    "print(find_city(my_cities, \"Zurich\"))"
   ]
  },
  {
   "cell_type": "markdown",
   "id": "5975d06f-6ea5-4590-b768-5c1abcec756d",
   "metadata": {},
   "source": [
    "### `for` loops"
   ]
  },
  {
   "cell_type": "code",
   "execution_count": 7,
   "id": "677db3c1-1aa1-4b98-b888-d74481706136",
   "metadata": {},
   "outputs": [
    {
     "name": "stdout",
     "output_type": "stream",
     "text": [
      "0\n",
      "1\n",
      "2\n"
     ]
    }
   ],
   "source": [
    "for i in range(3):\n",
    "    print(i)"
   ]
  },
  {
   "cell_type": "code",
   "execution_count": 8,
   "id": "d1aa93a5-1756-4468-809c-49e6fa9dd0bd",
   "metadata": {},
   "outputs": [
    {
     "name": "stdout",
     "output_type": "stream",
     "text": [
      "New York is located at 40.6943, -73.9249\n",
      "Mumbai is located at 18.9667, 72.8333\n"
     ]
    }
   ],
   "source": [
    "my_cities = {\n",
    "    \"New York\":    (40.6943,  -73.9249),\n",
    "    \"Mumbai\":      (18.9667,   72.8333),\n",
    "}\n",
    "# note that city is a string and coordinates is a tuple with 2 elements, because items() returns key/value pairs.\n",
    "for city, coordinates in my_cities.items():\n",
    "    print(f\"{city} is located at {coordinates[0]}, {coordinates[1]}\")"
   ]
  },
  {
   "cell_type": "markdown",
   "id": "87bab477-32f4-4185-a397-f9ad830e64aa",
   "metadata": {},
   "source": [
    "### `while` loops\n",
    "\n",
    "Use a `while` loop **only** if the number of effective iterations is unknown. Use `for` loops to iterate over collections!"
   ]
  },
  {
   "cell_type": "code",
   "execution_count": 9,
   "id": "a7941868-d011-4df4-a67e-3a32df872559",
   "metadata": {},
   "outputs": [
    {
     "name": "stdout",
     "output_type": "stream",
     "text": [
      "Player is stomping goombas and collecting coins\n",
      "Player is stomping goombas and collecting coins\n",
      "Player is stomping goombas and collecting coins\n",
      "Player is stomping goombas and collecting coins\n",
      "Player is stomping goombas and collecting coins\n",
      "Player is stomping goombas and collecting coins\n",
      "Player is stomping goombas and collecting coins\n",
      "Player is stomping goombas and collecting coins\n",
      "Player is stomping goombas and collecting coins\n",
      "Player is stomping goombas and collecting coins\n",
      "Player is stomping goombas and collecting coins\n",
      "Player is stomping goombas and collecting coins\n",
      "Player is stomping goombas and collecting coins\n",
      "Player is stomping goombas and collecting coins\n"
     ]
    }
   ],
   "source": [
    "from random import randrange\n",
    "\n",
    "player_is_alive = True\n",
    "while player_is_alive:\n",
    "    print(\"Player is stomping goombas and collecting coins\")\n",
    "    # player has a 1 in 5 random chance of dying on each iteration\n",
    "    player_is_alive = not randrange(5) == 0"
   ]
  },
  {
   "cell_type": "markdown",
   "id": "d4e260db-057d-42e0-a813-e60c4d0b3fc0",
   "metadata": {},
   "source": [
    "### References"
   ]
  },
  {
   "cell_type": "code",
   "execution_count": 10,
   "id": "b632d4a3-7d8b-4e1c-b1dc-43b00eed2246",
   "metadata": {},
   "outputs": [],
   "source": [
    "l = [1, 2, 3]"
   ]
  },
  {
   "cell_type": "markdown",
   "id": "512ebbd1-21b0-4373-b679-d525a91fbb53",
   "metadata": {},
   "source": [
    "<img src=\"ref_01.png\" alt=\"Drawing\" style=\"width: 150px;\"/>"
   ]
  },
  {
   "cell_type": "code",
   "execution_count": 11,
   "id": "4d3698a7-9a2d-459e-8754-77499df72543",
   "metadata": {},
   "outputs": [],
   "source": [
    "l = [1, 2, 3]\n",
    "x = l"
   ]
  },
  {
   "cell_type": "markdown",
   "id": "02338251-f54c-4dd3-9005-f4f80e54c834",
   "metadata": {},
   "source": [
    "<img src=\"ref_02.png\" alt=\"Drawing\" style=\"width: 150px;\"/>"
   ]
  },
  {
   "cell_type": "code",
   "execution_count": 12,
   "id": "8878ca7b-ca84-4774-b1cb-71b0d039673b",
   "metadata": {},
   "outputs": [
    {
     "name": "stdout",
     "output_type": "stream",
     "text": [
      "[7, 2, 3]\n",
      "[7, 2, 3]\n"
     ]
    }
   ],
   "source": [
    "x[0] = 7\n",
    "print(l)\n",
    "print(x)"
   ]
  },
  {
   "cell_type": "markdown",
   "id": "1b4d4890-d6fa-4483-9c26-7535f41c5091",
   "metadata": {},
   "source": [
    "<img src=\"ref_03.png\" alt=\"Drawing\" style=\"width: 150px;\"/> <img src=\"ref_04.png\" alt=\"Drawing\" style=\"width: 150px;\"/> <img src=\"ref_05.png\" alt=\"Drawing\" style=\"width: 150px;\"/> "
   ]
  },
  {
   "cell_type": "markdown",
   "id": "fad23956-cb94-49e5-8242-0dce0b0f80af",
   "metadata": {},
   "source": [
    "### Checking for Equality\n",
    "\n",
    " * `==` checks if the two sides are *equivalent*\n",
    " * `is` checks if the two sides are the exact same thing (i.e., the same object in memory)."
   ]
  },
  {
   "cell_type": "code",
   "execution_count": 13,
   "id": "98346b4a-cdc3-4cfb-96d9-651ac03d4799",
   "metadata": {},
   "outputs": [
    {
     "name": "stdout",
     "output_type": "stream",
     "text": [
      "True\n",
      "True\n",
      "True\n",
      "False\n"
     ]
    }
   ],
   "source": [
    "l = [7, 2, 3]\n",
    "x = l\n",
    "y = [7, 2, 3]\n",
    "print(l == x)   # True\n",
    "print(y == x)   # True as well, because the lists referred to by l and y both contain the exact same elements\n",
    "print(l is x)   # True, because l and x refer to the exact same object in memory\n",
    "print(y is x)   # False, because y and x are two different objects in memory"
   ]
  },
  {
   "cell_type": "markdown",
   "id": "304bee3c-0253-4d56-889a-fcada1698b31",
   "metadata": {},
   "source": [
    "<img src=\"ref_06.png\" alt=\"Drawing\" style=\"width: 320px;\"/>\n"
   ]
  },
  {
   "cell_type": "markdown",
   "id": "01cd75b1-ea74-42ba-be09-950bac20dd6c",
   "metadata": {},
   "source": [
    "Use `is` when comparing with `None`"
   ]
  },
  {
   "cell_type": "code",
   "execution_count": 14,
   "id": "dec67887-a39d-40b8-99ba-4eb11ddd461d",
   "metadata": {},
   "outputs": [
    {
     "name": "stdout",
     "output_type": "stream",
     "text": [
      "We don't know her number\n"
     ]
    }
   ],
   "source": [
    "contacts = {\"Bob\": \"+41991234567\"}\n",
    "def get_number(phonebook, person):\n",
    "    if person not in phonebook:\n",
    "        return None\n",
    "    return phonebook[person]\n",
    "    \n",
    "if get_number(contacts, \"Anna\") is None:\n",
    "    print(\"We don't know her number\")"
   ]
  },
  {
   "cell_type": "markdown",
   "id": "948694e4-65f1-4400-8d54-4d51d2cef944",
   "metadata": {},
   "source": [
    "Sidenote: be careful if you're dealing with values which could be *Falsy* or `None`. When used in a conditional expression, both will result in `None`:"
   ]
  },
  {
   "cell_type": "code",
   "execution_count": 15,
   "id": "1c425519-33c2-41b0-8c15-b16d4120b8c3",
   "metadata": {},
   "outputs": [
    {
     "data": {
      "text/plain": [
       "False"
      ]
     },
     "execution_count": 15,
     "metadata": {},
     "output_type": "execute_result"
    }
   ],
   "source": [
    "None == False"
   ]
  },
  {
   "cell_type": "code",
   "execution_count": 16,
   "id": "17f732b5-d829-4413-8a78-32be67b1318e",
   "metadata": {},
   "outputs": [
    {
     "data": {
      "text/plain": [
       "True"
      ]
     },
     "execution_count": 16,
     "metadata": {},
     "output_type": "execute_result"
    }
   ],
   "source": [
    "bool(None) == bool(False)"
   ]
  },
  {
   "cell_type": "code",
   "execution_count": 17,
   "id": "b75fb56d-5a3a-439f-83dd-b8168b20ff07",
   "metadata": {},
   "outputs": [
    {
     "name": "stdout",
     "output_type": "stream",
     "text": [
      "None is falsy\n",
      "False is falsy\n"
     ]
    }
   ],
   "source": [
    "if not None:\n",
    "    print(\"None is falsy\")\n",
    "if not False:\n",
    "    print(\"False is falsy\")"
   ]
  },
  {
   "cell_type": "code",
   "execution_count": 18,
   "id": "d1b02795-22f7-4938-86d1-a770005d3260",
   "metadata": {},
   "outputs": [
    {
     "name": "stdout",
     "output_type": "stream",
     "text": [
      "0 is positive\n"
     ]
    }
   ],
   "source": [
    "def is_negative(x):\n",
    "    if x < 0:\n",
    "        return True\n",
    "    if x > 0:\n",
    "        return False\n",
    "if is_negative(0):\n",
    "    print(\"0 is negative\")\n",
    "else:\n",
    "    print(\"0 is positive\") # but by most definitions, zero is neither positive nor negative"
   ]
  },
  {
   "cell_type": "markdown",
   "id": "9af72ddc-d391-4bf3-b5d3-9aa0c912ad8a",
   "metadata": {},
   "source": [
    "<p style=\"height:100px\"></p>\n",
    "<hr>\n",
    "<p style=\"height:100px\"></p>\n",
    "\n",
    "\n",
    "\n"
   ]
  },
  {
   "cell_type": "markdown",
   "id": "a7663374-834a-448b-9ff7-83531ec1b919",
   "metadata": {},
   "source": [
    "# Pass-by-reference\n",
    "\n",
    "Python function calls use \"pass-by-reference\". This means that if a function is called with a reference (i.e., a variable), then only that reference is passed into the function. The value referenced is *not* copied (the latter would be called \"pass-by-value\").\n",
    "\n",
    "In the following example we\n",
    " * create a list containing three elements\n",
    " * create a variable `x` referencing that list\n",
    " * declare a function `foo` which takes one parameter (\"a list\" `l`) and appends a value to it\n",
    " * call the function `foo` with `x` as the parameter. `x` is a reference to the list we created. The function receives this reference and appends an element to the referenced list. The function does not return anything. It just edited `l`. Because `l` references the same list as `x`, `x` appears to have been modified as well.\n",
    "\n",
    "We also print whatever `x` refers to before and after calling `foo`."
   ]
  },
  {
   "cell_type": "code",
   "execution_count": 19,
   "id": "4de8bfcd-c5c3-416a-9715-97621576d4fb",
   "metadata": {},
   "outputs": [
    {
     "name": "stdout",
     "output_type": "stream",
     "text": [
      "[1, 2, 3]\n",
      "[1, 2, 3, 4]\n"
     ]
    }
   ],
   "source": [
    "x = [1, 2, 3]\n",
    "def foo(l):\n",
    "    l.append(4)\n",
    "print(x)\n",
    "foo(x)\n",
    "print(x)"
   ]
  },
  {
   "cell_type": "markdown",
   "id": "67cf39cf-6a02-4195-be94-7ae897218715",
   "metadata": {},
   "source": [
    "Things to keep in mind:\n",
    "\n",
    " * A variable is a **reference** to something in memory.\n",
    " * A variable is not the exact same thing as its value\n",
    " * Multiple variables can reference the same thing in memory.\n",
    " * When passing a variable to a function, it's only the reference that is place into the function. Values are not copied."
   ]
  },
  {
   "cell_type": "markdown",
   "id": "7ec8eba0-c736-4910-88be-31a9d31f1fcd",
   "metadata": {},
   "source": [
    "<img src=\"ref_07.png\" alt=\"Drawing\" style=\"width: 350px;\"/>"
   ]
  },
  {
   "cell_type": "markdown",
   "id": "622730b2-ab00-44c0-901e-d59d2bf12add",
   "metadata": {},
   "source": [
    "So semantically, the following would result in the exact same outcome:"
   ]
  },
  {
   "cell_type": "code",
   "execution_count": 20,
   "id": "88f10cd7-c07a-4770-a902-a70c15b44e35",
   "metadata": {},
   "outputs": [
    {
     "name": "stdout",
     "output_type": "stream",
     "text": [
      "[1, 2, 3]\n",
      "[1, 2, 3, 4]\n"
     ]
    }
   ],
   "source": [
    "x = [1, 2, 3]\n",
    "def foo():\n",
    "    x.append(4)\n",
    "print(x)\n",
    "foo()\n",
    "print(x)"
   ]
  },
  {
   "cell_type": "markdown",
   "id": "ec5905d7-2c0d-43f1-b1e7-c4c614746a1f",
   "metadata": {},
   "source": [
    "In this example, `foo` does not actually take any arguments. Instead, we reference `x` directly, rather than taking the detour of using `l`.\n",
    "\n",
    "This brings us to the next topic..."
   ]
  },
  {
   "cell_type": "markdown",
   "id": "c8a58f6f-8243-4efb-af80-db2cfab23c7d",
   "metadata": {},
   "source": [
    "# Scope\n",
    "\n",
    "Scope determines where in a program a given variable or function can be accessed and modified.\n",
    "\n",
    "For example, `x` is *in scope* both inside and outside of the `foo` function:"
   ]
  },
  {
   "cell_type": "code",
   "execution_count": 21,
   "id": "3df43007-8066-4692-8b73-a078527fcfd9",
   "metadata": {},
   "outputs": [
    {
     "name": "stdout",
     "output_type": "stream",
     "text": [
      "[1, 2, 3, 4]\n"
     ]
    }
   ],
   "source": [
    "x = [1, 2, 3]\n",
    "def foo():\n",
    "    x.append(4)\n",
    "foo()\n",
    "print(x)"
   ]
  },
  {
   "cell_type": "markdown",
   "id": "667dd94e-fe0f-46b6-8fde-0a6e5a733446",
   "metadata": {},
   "source": [
    "Let's look at another example. Here's our familiar `power2` function, which takes a single parameter, `y`. When calling this function, for example `power2(4)`, then the variable `y` inside the function is assigned the value `4`:"
   ]
  },
  {
   "cell_type": "code",
   "execution_count": 22,
   "id": "795e462a-6d9d-4792-8a91-c93ef6aeca00",
   "metadata": {},
   "outputs": [
    {
     "data": {
      "text/plain": [
       "16"
      ]
     },
     "execution_count": 22,
     "metadata": {},
     "output_type": "execute_result"
    }
   ],
   "source": [
    "def power2(y):\n",
    "    return y ** 2\n",
    "power2(4)"
   ]
  },
  {
   "cell_type": "markdown",
   "id": "88bfee58-e412-4d2f-85bf-60cf2a05da16",
   "metadata": {},
   "source": [
    "However, outside the function, `y` is undefined:"
   ]
  },
  {
   "cell_type": "code",
   "execution_count": 23,
   "id": "395a43b0-3c6d-4f13-ba52-4feaed288a65",
   "metadata": {},
   "outputs": [
    {
     "data": {
      "text/plain": [
       "16"
      ]
     },
     "execution_count": 23,
     "metadata": {},
     "output_type": "execute_result"
    }
   ],
   "source": [
    "def power2(y):\n",
    "    return y ** 2\n",
    "power2(4)\n",
    "#print(y)           # impossible, because y is not defined in the module scope!"
   ]
  },
  {
   "cell_type": "markdown",
   "id": "01226584-13c0-4621-9cba-4db29b1572b4",
   "metadata": {},
   "source": [
    "This is because the *scope* of `y` is the function `power2`. In other words, `y` is only defined within the function body."
   ]
  },
  {
   "cell_type": "markdown",
   "id": "dd706bbe-319a-4752-9aba-96071d773f6d",
   "metadata": {},
   "source": [
    "On the other hand, if we assign a variable on the module level (i.e., \"without any indentation\"), then its scope is the entire module. Such a variable will be accessible anywhere (below its definition) within the module:"
   ]
  },
  {
   "cell_type": "code",
   "execution_count": 24,
   "id": "69a97b29-61ca-4a13-b12f-4713f4b27d88",
   "metadata": {},
   "outputs": [
    {
     "name": "stdout",
     "output_type": "stream",
     "text": [
      "10\n",
      "10\n"
     ]
    },
    {
     "data": {
      "text/plain": [
       "16"
      ]
     },
     "execution_count": 24,
     "metadata": {},
     "output_type": "execute_result"
    }
   ],
   "source": [
    "z = 10\n",
    "def power2(y):\n",
    "    print(z)\n",
    "    return y ** 2\n",
    "print(z)\n",
    "power2(4)"
   ]
  },
  {
   "cell_type": "markdown",
   "id": "1c7d6ea8-4af8-41a0-ba49-fe2aa3a9fd81",
   "metadata": {},
   "source": [
    "As you can see, `z` is *in scope* both within the `power2` function and outside of it, because it was defined inside the *module* scope."
   ]
  },
  {
   "cell_type": "markdown",
   "id": "08d3f485-5990-4fca-ba0d-7a59d1f6048a",
   "metadata": {},
   "source": [
    "### Shadowing\n",
    "\n",
    "This can lead to a tricky situation called **shadowing**:"
   ]
  },
  {
   "cell_type": "code",
   "execution_count": 25,
   "id": "e8ee93de-4d2a-4959-81b7-1ad201ba174c",
   "metadata": {},
   "outputs": [
    {
     "data": {
      "text/plain": [
       "16"
      ]
     },
     "execution_count": 25,
     "metadata": {},
     "output_type": "execute_result"
    }
   ],
   "source": [
    "y = 10\n",
    "def power2(y):\n",
    "    return y ** 2\n",
    "power2(4)"
   ]
  },
  {
   "cell_type": "markdown",
   "id": "c209b41b-6400-4434-92d0-7e5c5ee85541",
   "metadata": {},
   "source": [
    "In this example, the declaration of `y` as a parameter inside `power2` **shadows** the definition of `y` in the module scope. The `y` inside the function is **not** the same as the `y` outside the function. This can be illustrated easily by printing the variable in multiple places:"
   ]
  },
  {
   "cell_type": "code",
   "execution_count": 26,
   "id": "5f729aaa-dd13-46b8-8d06-9af04688a8ab",
   "metadata": {},
   "outputs": [
    {
     "name": "stdout",
     "output_type": "stream",
     "text": [
      "10\n",
      "4\n"
     ]
    },
    {
     "data": {
      "text/plain": [
       "16"
      ]
     },
     "execution_count": 26,
     "metadata": {},
     "output_type": "execute_result"
    }
   ],
   "source": [
    "y = 10\n",
    "def power2(y):\n",
    "    print(y)        # second print output: value of y which is passed to the function, has nothing to do with the y on line 1\n",
    "    return y ** 2\n",
    "print(y)            # first print output: value of y defined on line 1\n",
    "power2(4)"
   ]
  },
  {
   "cell_type": "markdown",
   "id": "d6b61f73-e5a8-479e-85fc-ad60f550b9b1",
   "metadata": {},
   "source": [
    "Even reassigning `y` within the function has no effect on the `y` outside the function!"
   ]
  },
  {
   "cell_type": "code",
   "execution_count": 27,
   "id": "19dedc35-f448-4a49-82bc-8245efd0547e",
   "metadata": {},
   "outputs": [
    {
     "name": "stdout",
     "output_type": "stream",
     "text": [
      "10\n",
      "6\n",
      "36\n",
      "10\n",
      "6\n",
      "36\n"
     ]
    }
   ],
   "source": [
    "y = 10\n",
    "def power2(y):\n",
    "    y = 6           # reassigning y just overwrites the y passed to the function on line 2!\n",
    "    print(y)        # value of y which was assigned on line 3\n",
    "    return y ** 2\n",
    "print(y)            # still the value of y defined on line 1, reassignment inside power2 had no impact on this!\n",
    "print(power2(4))\n",
    "print(y)\n",
    "print(power2(4))"
   ]
  },
  {
   "cell_type": "markdown",
   "id": "245759ad-9e6d-42df-9f2b-0b04fb3664d4",
   "metadata": {},
   "source": [
    "This is true even if the variable being assigned was not passed as a parameter!\n",
    "\n",
    "**Important**: any **assignment** you make inside the function will create a new variable within the function scope, even if *a* variable with the same name exists before the assignment!"
   ]
  },
  {
   "cell_type": "code",
   "execution_count": 28,
   "id": "c0ec7039-568c-43a9-9d28-caba1d46df32",
   "metadata": {},
   "outputs": [
    {
     "name": "stdout",
     "output_type": "stream",
     "text": [
      "10\n",
      "6\n",
      "36\n",
      "10\n",
      "6\n",
      "36\n"
     ]
    }
   ],
   "source": [
    "y = 10\n",
    "def power2():\n",
    "    y = 6           # this does NOT reassign the y from line 1, but creates a new y inside the function scope!\n",
    "    print(y)        # value of y which was assigned on line 3\n",
    "    return y ** 2\n",
    "print(y)            # still the value of y defined on line 1, reassignment inside power2 had no impact on this!\n",
    "print(power2())\n",
    "print(y)            # y is STILL 10, despite y = 6 inside the function!\n",
    "print(power2())"
   ]
  },
  {
   "cell_type": "markdown",
   "id": "072b3657-9e37-4ff4-aecc-6d3ba8f0531f",
   "metadata": {},
   "source": [
    "It's best to avoid this kind of thing from happening altogether: if you're already using a variable name in a higher-level scope (for example the module scope), then use different variable names for parameters or variables in general in lower-level scopes:"
   ]
  },
  {
   "cell_type": "code",
   "execution_count": 29,
   "id": "a8a324c8-b14d-433d-a0d6-4197fe617c78",
   "metadata": {},
   "outputs": [
    {
     "name": "stdout",
     "output_type": "stream",
     "text": [
      "10\n",
      "16\n"
     ]
    }
   ],
   "source": [
    "y = 10\n",
    "def power2(num):        # avoid shadowing by giving this variable a name that does not shadow anything from the higher-level scope\n",
    "    return num ** 2\n",
    "print(y)\n",
    "print(power2(4))"
   ]
  },
  {
   "cell_type": "markdown",
   "id": "26257568-a4f4-42c0-8b24-bad84d79f11b",
   "metadata": {},
   "source": [
    "A new scope is created for any\n",
    " * Module (i.e. a new file/script)\n",
    " * Function (i.e. anything declared using `def` or `lambda`)\n",
    " * Class (i.e. anything declared using `class`)\n",
    " * comprehension\n",
    "\n",
    "However, the following do *not* create a new scope:\n",
    " * `if`/`elif`/`else` blocks\n",
    " * `for` loops"
   ]
  },
  {
   "cell_type": "code",
   "execution_count": 30,
   "id": "2e3a8a8b-512a-460d-bfcd-01742da9fdd6",
   "metadata": {},
   "outputs": [
    {
     "name": "stdout",
     "output_type": "stream",
     "text": [
      "10\n",
      "10\n"
     ]
    }
   ],
   "source": [
    "if True:\n",
    "    x = 10\n",
    "print(x)       # x is in scope, because if statements do not create a new scope\n",
    "def foo():\n",
    "    x = 20     # this x defined here does NOT overwrite the x from the module scope! It's a different x.\n",
    "foo()\n",
    "print(x)"
   ]
  },
  {
   "cell_type": "markdown",
   "id": "fcf99e46-e0e8-4354-9454-19cd473195c0",
   "metadata": {},
   "source": [
    "So far, in (almost) all examples of functions, we assumed that the function receives **everything** it needs as parameters. For example, we pass to `find_city` both the dictionary to be searched as the parameter `cities` and the name of the city as parameter `city`:\n",
    "\n",
    "```\n",
    "def find_city(cities, city):\n",
    "```\n",
    "\n",
    "And then we call the function passing values for both parameters:\n",
    "\n",
    "```\n",
    "find_city(my_cities, \"Mumbai\")\n",
    "```\n",
    "such that inside the function `cities` *refers to* the dictionary assigned to `my_cities`"
   ]
  },
  {
   "cell_type": "code",
   "execution_count": 31,
   "id": "5927e91d-1620-4e7a-9f96-916a9f65a3bf",
   "metadata": {},
   "outputs": [
    {
     "name": "stdout",
     "output_type": "stream",
     "text": [
      "(18.9667, 72.8333)\n",
      "None\n"
     ]
    }
   ],
   "source": [
    "my_cities = {\n",
    "    \"Tokyo\":       (35.6839,  139.7744),\n",
    "    \"New York\":    (40.6943,  -73.9249),\n",
    "    \"Mexico City\": (19.4333,  -99.1333),\n",
    "    \"Mumbai\":      (18.9667,   72.8333),\n",
    "    \"Sao Paulo\":   (-23.5504, -46.6339),\n",
    "}\n",
    "def find_city(cities, city):\n",
    "    if city not in cities:\n",
    "        return None\n",
    "    return cities[city]\n",
    "print(find_city(my_cities, \"Mumbai\"))\n",
    "print(find_city(my_cities, \"Zurich\"))"
   ]
  },
  {
   "cell_type": "markdown",
   "id": "ed4e8ee4-dbcb-4672-bf80-9a9b7a65a360",
   "metadata": {},
   "source": [
    "But if we wanted to, we could rewrite this function to simply reference the module-scope variable `my_cities`:"
   ]
  },
  {
   "cell_type": "code",
   "execution_count": 32,
   "id": "da57aa4c-5ae1-4e98-9762-ee2d51dc9fbd",
   "metadata": {},
   "outputs": [
    {
     "name": "stdout",
     "output_type": "stream",
     "text": [
      "(18.9667, 72.8333)\n",
      "None\n"
     ]
    }
   ],
   "source": [
    "my_cities = {\n",
    "    \"Tokyo\":       (35.6839,  139.7744),\n",
    "    \"New York\":    (40.6943,  -73.9249),\n",
    "    \"Mexico City\": (19.4333,  -99.1333),\n",
    "    \"Mumbai\":      (18.9667,   72.8333),\n",
    "    \"Sao Paulo\":   (-23.5504, -46.6339),\n",
    "}\n",
    "def find_city(city):\n",
    "    if city not in my_cities:\n",
    "        return None\n",
    "    return my_cities[city]\n",
    "print(find_city(\"Mumbai\"))\n",
    "print(find_city(\"Zurich\"))"
   ]
  },
  {
   "cell_type": "markdown",
   "id": "318ab61f-11fd-42b2-a661-d2c220bfb673",
   "metadata": {},
   "source": [
    "This is ultimately a design choice. In general, referencing variables from outside the local scope can lead to more errors."
   ]
  },
  {
   "cell_type": "markdown",
   "id": "d256d1fb-7781-4e8a-a947-08f3c4fc2fc2",
   "metadata": {},
   "source": [
    "### `global`\n",
    "\n",
    "Remember that any *assignment* inside a function will create a new local variable, even if a variable with the same name exists in a higher-level scope:"
   ]
  },
  {
   "cell_type": "code",
   "execution_count": 33,
   "id": "da000379-6e0f-44d0-9fa1-ace5456995f5",
   "metadata": {},
   "outputs": [
    {
     "name": "stdout",
     "output_type": "stream",
     "text": [
      "10\n",
      "10\n"
     ]
    }
   ],
   "source": [
    "y = 10\n",
    "def normal():\n",
    "    y = 6              # this does NOT reassign the y from line 1, but creates a new y inside the function scope!\n",
    "print(y)\n",
    "normal()\n",
    "print(y)"
   ]
  },
  {
   "cell_type": "markdown",
   "id": "ef905857-403e-4a34-9bb7-fe3ca354e582",
   "metadata": {},
   "source": [
    "There is a way of making a function-scope variable be the same as a variable from a higher scope:"
   ]
  },
  {
   "cell_type": "code",
   "execution_count": 34,
   "id": "f3e1238e-085d-4abb-92bf-bebf12c78f75",
   "metadata": {},
   "outputs": [
    {
     "name": "stdout",
     "output_type": "stream",
     "text": [
      "10\n",
      "6\n"
     ]
    }
   ],
   "source": [
    "y = 10\n",
    "def dont_do_this():\n",
    "    global y           # this pulls the higher-level 'y' into the function scope\n",
    "    y = 6              # now, (re)assigning y actually changes y in the module scope\n",
    "print(y)\n",
    "dont_do_this()\n",
    "print(y)"
   ]
  },
  {
   "cell_type": "markdown",
   "id": "46befd2d-2b3b-4427-8347-c239c0236b80",
   "metadata": {},
   "source": [
    "However: **don't do this**. There are some fringe reasons where it makes sense to do this, but it's practically never necessary and is generally considered a code smell."
   ]
  },
  {
   "cell_type": "markdown",
   "id": "0645b977-c03a-44fe-97d8-1d49540a44e6",
   "metadata": {},
   "source": [
    "# Classes and objects\n",
    "\n",
    "You can imagine that lists, tuples, sets and dictionaries can be used to represent a wide variety of real-world data. Let's say, for example, that we're writing a vector drawing program (like Adobe Illustrator or Inkscape).\n",
    "\n",
    "<img src=\"shapes.png\" alt=\"Drawing\" style=\"width: 400px;\"/>\n"
   ]
  },
  {
   "cell_type": "markdown",
   "id": "88cdadad-d65f-4f16-8a56-deb27ef3c739",
   "metadata": {},
   "source": [
    "### A vector graphics drawing program\n",
    "\n",
    "Our program should be able to render various shapes on the screen. For this purpose, it will certainly need to have some internal representation for these shapes. Of course, some shapes can be defined in more than one way, but let's say we settle on these defining features for three of the most basic shapes:\n",
    "\n",
    " * Square: side length\n",
    " * Rectangle: width and height\n",
    " * Circle: radius\n",
    "\n",
    "We can use dictionaries and functions to store and transform these shapes. Say we store a dictionary with appropriate properties to describe any instance of each shape:"
   ]
  },
  {
   "cell_type": "code",
   "execution_count": 35,
   "id": "8761a0dd-7f02-41bf-bbcc-987c1fb1cda2",
   "metadata": {},
   "outputs": [
    {
     "name": "stdout",
     "output_type": "stream",
     "text": [
      "[{'type': 'square', 'side': 15}, {'type': 'square', 'side': 10}, {'type': 'rectangle', 'height': 5, 'width': 100}, {'type': 'circle', 'radius': 2}]\n"
     ]
    }
   ],
   "source": [
    "s1 = {\"type\": \"square\", \"side\": 15}\n",
    "s2 = {\"type\": \"square\", \"side\": 10}\n",
    "r1 = {\"type\": \"rectangle\", \"height\": 5, \"width\": 100}\n",
    "c1 = {\"type\": \"circle\", \"radius\": 2}\n",
    "shapes = [s1, s2, r1, c1]\n",
    "print(shapes)"
   ]
  },
  {
   "cell_type": "markdown",
   "id": "f8178957-1ab2-402b-86b0-cbe214ee5c39",
   "metadata": {},
   "source": [
    "And we could write functions to calculate the `area` of any shape:"
   ]
  },
  {
   "cell_type": "code",
   "execution_count": 36,
   "id": "082dae15-9f1f-44cd-9ddc-462049cb6e6c",
   "metadata": {},
   "outputs": [
    {
     "name": "stdout",
     "output_type": "stream",
     "text": [
      "[{'type': 'square', 'side': 15}, {'type': 'square', 'side': 10}, {'type': 'rectangle', 'height': 5, 'width': 100}, {'type': 'circle', 'radius': 2}]\n"
     ]
    },
    {
     "data": {
      "text/plain": [
       "[225, 100, 500, 12.566370614359172]"
      ]
     },
     "execution_count": 36,
     "metadata": {},
     "output_type": "execute_result"
    }
   ],
   "source": [
    "import math\n",
    "def area(it):\n",
    "    if it[\"type\"] == \"square\":\n",
    "        return it[\"side\"]**2\n",
    "    elif it[\"type\"] == \"rectangle\":\n",
    "        return it[\"height\"] * it[\"width\"]\n",
    "    if it[\"type\"] == \"circle\":\n",
    "        return math.pi * it[\"radius\"] ** 2\n",
    "print(shapes)\n",
    "[area(shape) for shape in shapes]"
   ]
  },
  {
   "cell_type": "markdown",
   "id": "8bfbd2d7-36db-4199-becd-7ad4edb90c5c",
   "metadata": {},
   "source": [
    "This *works*, but there are a couple of potential issues with this approach:\n",
    " * Creating new objects is a bit tedious: we have to spell out dictionary keys and values (...`\"type\": \"rectangle\"`...) a lot. Lot's of room for errors!\n",
    " * Working on these objects is also tedious: again we have to spell out the dictionary keys: (...`it[\"type\"] == \"rectangle\"`...)\n",
    " * The `area` function is split apart by `if` conditions.\n",
    "\n",
    "It all seems rather brittle. Because this kind of scenario is extremely common in real-world programming, most programming languages have mechanisms for structuring and abstracting it. Python (like many other languages) supports *classes*.\n",
    "\n",
    "Let's have another look just at the circle:"
   ]
  },
  {
   "cell_type": "code",
   "execution_count": 37,
   "id": "ed8fc6d0-639d-4b2a-a9a5-cb652471c16e",
   "metadata": {},
   "outputs": [],
   "source": [
    "c1  = {\"type\": \"circle\", \"radius\": 25}       # a specific circle, crudely represented using a dictionary\n",
    "def area(it):                                # a function that takes a dictionary (which hopefully has the right keys to be a circle)\n",
    "    if it[\"type\"] == \"circle\":               # if the dictionary appears to be a circle\n",
    "        return math.pi * it[\"radius\"] ** 2   # calculate and return its area"
   ]
  },
  {
   "cell_type": "markdown",
   "id": "4bedc2c9-05ae-40a7-92a7-d6debb38bc76",
   "metadata": {},
   "source": [
    "### Introducing `class`\n",
    "\n",
    "Instead of using `\"type\"` and `\"radius\"` keys in some arbitrary dictionary, we can define a `class` that describes what circles are like and what can be done with them.\n",
    "\n",
    "A class defines the **attributes** and **behavior** of a thing. For our circle:"
   ]
  },
  {
   "cell_type": "code",
   "execution_count": 38,
   "id": "c2c2c17c-a319-47cc-bb55-13f577033fea",
   "metadata": {},
   "outputs": [],
   "source": [
    "class Circle:                              # NOT a specific circle! Just a description of what a circle is and does\n",
    "    def __init__(self, radius):            # __init__ is called when a new Circle is created\n",
    "        self.radius = radius               # we store radius as an attribute of a newly created Circle\n",
    "    def area(self):                        # now instead of taking a dictionary \"it\", the function just takes a Circle object \"self\"\n",
    "        return math.pi * self.radius ** 2  # we compute and return the area just like before, but reading self.radius instead of it[\"radius\"]"
   ]
  },
  {
   "cell_type": "markdown",
   "id": "eb0963f3-9a6f-4baa-98a4-e3f567f56853",
   "metadata": {},
   "source": [
    "Now we have a class `Circle` (note that class names are written using `CamelCase` by convention), with two functions:\n",
    " * `__init__` determines what happens when we want to create a new circle\n",
    " * `Circle`'s `area` method does the scaling just like the old function previously did\n",
    "\n",
    "When functions are part of a class, we usually call them *methods* instead of *functions*.\n",
    "\n",
    "Now instead of"
   ]
  },
  {
   "cell_type": "code",
   "execution_count": 39,
   "id": "ab20d1fd-d520-47a3-b352-197e78158adc",
   "metadata": {},
   "outputs": [],
   "source": [
    "c1  = {\"type\": \"circle\", \"radius\": 2}"
   ]
  },
  {
   "cell_type": "markdown",
   "id": "8ca34e25-2ac9-45b3-a067-ef8ce4efbaed",
   "metadata": {},
   "source": [
    "we will do"
   ]
  },
  {
   "cell_type": "code",
   "execution_count": 40,
   "id": "3f7ac3ef-69aa-42d5-8bc7-ab67b64812ce",
   "metadata": {},
   "outputs": [],
   "source": [
    "c1 = Circle(2)"
   ]
  },
  {
   "cell_type": "markdown",
   "id": "d0deef0c-506c-40ca-ab23-2b024505987a",
   "metadata": {},
   "source": [
    "The number `25` we pass along is received by the special `__init__` function.\n",
    "\n",
    "It's obvious that the type is a `Circle` because that's the point of having classes. In fact, Python will happily tell us its type, while before, the type would have been `dict`:"
   ]
  },
  {
   "cell_type": "code",
   "execution_count": 41,
   "id": "d15a8231-98c7-4ede-ad6a-47f71e838d37",
   "metadata": {},
   "outputs": [
    {
     "data": {
      "text/plain": [
       "__main__.Circle"
      ]
     },
     "execution_count": 41,
     "metadata": {},
     "output_type": "execute_result"
    }
   ],
   "source": [
    "type(c1)"
   ]
  },
  {
   "cell_type": "markdown",
   "id": "b00ba392-53a5-4682-92fe-3b90383d1cfb",
   "metadata": {},
   "source": [
    "And instead of scaling a circle like this:"
   ]
  },
  {
   "cell_type": "code",
   "execution_count": 42,
   "id": "b3d4e1eb-bde1-476f-be46-5307f2e6c3fe",
   "metadata": {},
   "outputs": [
    {
     "data": {
      "text/plain": [
       "12.566370614359172"
      ]
     },
     "execution_count": 42,
     "metadata": {},
     "output_type": "execute_result"
    }
   ],
   "source": [
    "c1  = {\"type\": \"circle\", \"radius\": 2}\n",
    "area(c1)"
   ]
  },
  {
   "cell_type": "markdown",
   "id": "f3885f5c-dcfa-4f99-b0dd-005b10100162",
   "metadata": {},
   "source": [
    "we can do this:"
   ]
  },
  {
   "cell_type": "code",
   "execution_count": 43,
   "id": "336efb49-6cbc-4b1b-8ffe-755074044c08",
   "metadata": {},
   "outputs": [
    {
     "data": {
      "text/plain": [
       "12.566370614359172"
      ]
     },
     "execution_count": 43,
     "metadata": {},
     "output_type": "execute_result"
    }
   ],
   "source": [
    "c1 = Circle(2)\n",
    "c1.area()"
   ]
  },
  {
   "cell_type": "markdown",
   "id": "7c936285-1f20-487f-a902-7a1335638f78",
   "metadata": {},
   "source": [
    "Notice how the old function..."
   ]
  },
  {
   "cell_type": "code",
   "execution_count": 44,
   "id": "15a3086f-4181-40f4-88dd-ccc39a84dc6a",
   "metadata": {},
   "outputs": [],
   "source": [
    "def area(it):\n",
    "    if it[\"type\"] == \"circle\":\n",
    "        return math.pi * it[\"radius\"] ** 2"
   ]
  },
  {
   "cell_type": "markdown",
   "id": "ae890600-a8d4-49be-b1e2-ce0297d73278",
   "metadata": {},
   "source": [
    "...took an object `it` (which at that point was just a simple dictionary representing a circle) and changed the value for the `radius` key.\n",
    "\n",
    "The new method..."
   ]
  },
  {
   "cell_type": "code",
   "execution_count": 45,
   "id": "9f8859a0-305d-4870-8b9f-e79bd5589b02",
   "metadata": {},
   "outputs": [],
   "source": [
    "    def area(self):\n",
    "        return math.pi * self.radius ** 2 "
   ]
  },
  {
   "cell_type": "markdown",
   "id": "0ef59d43-9ebc-415d-a2cf-4c5189068382",
   "metadata": {},
   "source": [
    "does exactly the same. Just like `it` previously, `self` inside a class always refers to \"the object we're talking about here\". And because `area` is implemented inside the `Circle` class, Python will automatically fill in `self` with the object where the function call is taken:"
   ]
  },
  {
   "cell_type": "code",
   "execution_count": 46,
   "id": "1f482f2e-bd2a-4f3d-b6fc-c315b8e94ba2",
   "metadata": {},
   "outputs": [
    {
     "data": {
      "text/plain": [
       "12.566370614359172"
      ]
     },
     "execution_count": 46,
     "metadata": {},
     "output_type": "execute_result"
    }
   ],
   "source": [
    "c1.area()          # no need to specify any parameters: 'self' is obviously c1"
   ]
  },
  {
   "cell_type": "markdown",
   "id": "4df7403a-242c-4cca-83cf-4b96efe7c14c",
   "metadata": {},
   "source": [
    "Seriously! What Python does internally, you can do yourself, if you really want to for some reason. if you call the method on the *class* rather than an object, you will have to supply `self` (in this case, `c1`) by hand:"
   ]
  },
  {
   "cell_type": "code",
   "execution_count": 47,
   "id": "6a330434-c386-4c03-a365-aeb2763f1a41",
   "metadata": {},
   "outputs": [
    {
     "data": {
      "text/plain": [
       "12.566370614359172"
      ]
     },
     "execution_count": 47,
     "metadata": {},
     "output_type": "execute_result"
    }
   ],
   "source": [
    "c1 = Circle(2)\n",
    "Circle.area(c1)    # The upper-case C at the beginning is important! This calls the method on the Circle CLASS, not on the c1 OBJECT"
   ]
  },
  {
   "cell_type": "markdown",
   "id": "41e01d47-f455-4d04-bf04-5a4c08f2e937",
   "metadata": {
    "scrolled": true
   },
   "source": [
    "Inside the `area` method, instead of specifying a dictionary key `[\"radius\"]`, we refer to the objects radius via the  `self.radius` property. Remember, we set that property when the object was created using `__init__`. Here's the whole class again:"
   ]
  },
  {
   "cell_type": "code",
   "execution_count": 48,
   "id": "7b924be6-369d-4297-8f96-395296ebf5db",
   "metadata": {},
   "outputs": [
    {
     "data": {
      "text/plain": [
       "12.566370614359172"
      ]
     },
     "execution_count": 48,
     "metadata": {},
     "output_type": "execute_result"
    }
   ],
   "source": [
    "class Circle:\n",
    "    def __init__(self, radius):\n",
    "        self.radius = radius\n",
    "    def area(self):\n",
    "        return math.pi * self.radius ** 2\n",
    "c1 = Circle(2)              # c1.radius is set by __init__ (where self refers to the same object as c1)\n",
    "c1.area()                   # area calculated based on c1.radius in area (where self refers to the same object as c1)"
   ]
  },
  {
   "cell_type": "code",
   "execution_count": 49,
   "id": "26fdf408-80fa-4adc-8cbc-7dc1861381dc",
   "metadata": {},
   "outputs": [
    {
     "data": {
      "text/plain": [
       "12.566370614359172"
      ]
     },
     "execution_count": 49,
     "metadata": {},
     "output_type": "execute_result"
    }
   ],
   "source": [
    "c1 = Circle(2)\n",
    "c1.area()"
   ]
  },
  {
   "cell_type": "markdown",
   "id": "58bd0982-e0cb-4bf6-b638-bf02e215b490",
   "metadata": {},
   "source": [
    "### `print`ing objects\n",
    "\n",
    "One thing you'll notice rather quickly is that printing your proud creation will not be particularily insightful:"
   ]
  },
  {
   "cell_type": "code",
   "execution_count": 50,
   "id": "d6a712f1-b9d9-471e-99b0-4dfcd379c27e",
   "metadata": {},
   "outputs": [
    {
     "name": "stdout",
     "output_type": "stream",
     "text": [
      "<__main__.Circle object at 0x7f7d0122e390>\n"
     ]
    }
   ],
   "source": [
    "print(c1)"
   ]
  },
  {
   "cell_type": "markdown",
   "id": "fe3481dd-b925-4686-934d-8094b24ac820",
   "metadata": {},
   "source": [
    "You have to gift your classes a nice string representation yourself. You do this by implementing the `__str__` and `__repr__` methods:\n",
    " * \"`__str__` is for customers\". It should return a pretty representation of the object\n",
    " * \"`__repr__` is for developers\". It should return an unambiguous representation (ideally one that could be used to recreate the object)\n",
    "\n",
    "For our simple `Circle`, this should suffice:"
   ]
  },
  {
   "cell_type": "code",
   "execution_count": 51,
   "id": "f6617224-3bc8-4a8d-baed-7c7ddea313ed",
   "metadata": {},
   "outputs": [
    {
     "name": "stdout",
     "output_type": "stream",
     "text": [
      "A circle with radius 25\n"
     ]
    }
   ],
   "source": [
    "class Circle:\n",
    "    def __init__(self, radius):\n",
    "        self.radius = radius\n",
    "    def area(self):\n",
    "        return math.pi * self.radius ** 2\n",
    "    def __str__(self):\n",
    "        return f\"A circle with radius {self.radius}\"\n",
    "    def __repr__(self):\n",
    "        return f\"Circle({self.radius})\"\n",
    "c1 = Circle(25)\n",
    "print(c1)"
   ]
  },
  {
   "cell_type": "markdown",
   "id": "7e33998d-e77e-469f-81e2-ec0f5dd41e08",
   "metadata": {},
   "source": [
    "You'll notice that when you `print` an object, the `__str__` method will be used. However, when you print some other data structure that just refers to your object, then the `__repr__` method will be used. This is easily illustrated if we put some `Circle`s in a list and then print the **list**:"
   ]
  },
  {
   "cell_type": "code",
   "execution_count": 52,
   "id": "52443130-27ac-4021-957b-b1848ae1fbb0",
   "metadata": {},
   "outputs": [
    {
     "name": "stdout",
     "output_type": "stream",
     "text": [
      "A circle with radius 70\n",
      "[Circle(25), Circle(70), Circle(1)]\n"
     ]
    }
   ],
   "source": [
    "my_circles = [c1, Circle(70), Circle(1)]\n",
    "print(my_circles[1])    # __str__ is called to print the single instance at index 1 \n",
    "print(my_circles)       # __repr__ is called for each instance in the list"
   ]
  },
  {
   "cell_type": "markdown",
   "id": "2068b9ba-b524-45d6-82d9-a545bb510cd7",
   "metadata": {},
   "source": [
    "The existing method `area` reads properties of a given shape and returns a value. Naturally, doing this doesn't change the object. But just like we can modify collections like lists and dictionaries, we can also modify our custom objects.\n",
    "\n",
    "Let's implement another method for our `Circle` class which will be able to change the size of the circle. But before that, let's remember how we would have done it in the past, using just dictionaries and plain functions:"
   ]
  },
  {
   "cell_type": "code",
   "execution_count": 53,
   "id": "f02939ab-5dff-4f7f-9cbd-c52f3db7f419",
   "metadata": {},
   "outputs": [],
   "source": [
    "c1  = {\"type\": \"circle\", \"radius\": 25}       # a specific circle, crudely represented using a dictionary\n",
    "def scale(it, factor):                       # a function that takes a dictionary (which hopefully has the right keys to be a circle) and a factor\n",
    "    if it[\"type\"] == \"circle\":               # if the dictionary appears to be a circle\n",
    "        it[\"radius\"] *= factor               # modify the dictionary"
   ]
  },
  {
   "cell_type": "markdown",
   "id": "083239d7-bcab-48b2-84cb-a05d2d53808f",
   "metadata": {},
   "source": [
    "In contrast to the `area` function, which does not take any additional parameters beyond `it`, the `scale` function takes one additional parameter `factor`. Likewise, our `Circle` method will take an additional parameter beyond `self`:"
   ]
  },
  {
   "cell_type": "code",
   "execution_count": 54,
   "id": "a5115d36-51a9-460b-8db7-4334e5f1beb3",
   "metadata": {},
   "outputs": [],
   "source": [
    "class Circle:                       # NOT a specific circle! Just a description of what a circle is and does\n",
    "    def __init__(self, radius):     # __init__ is called when a new Circle is created\n",
    "        self.radius = radius        # we store radius as an attribute of a newly created Circle\n",
    "    def scale(self, factor):        # now the function just takes \"self\" instead of \"it\", and it's a Circle object, rather than just a dictionary\n",
    "        self.radius *= factor       # we modify the Circle objects radius, just like before\n",
    "\n",
    "    # the other methods\n",
    "    def area(self):\n",
    "        return math.pi * self.radius ** 2\n",
    "    def __str__(self):\n",
    "        return f\"A circle with radius {self.radius}\"\n",
    "    def __repr__(self):\n",
    "        return f\"Circle({self.radius})\""
   ]
  },
  {
   "cell_type": "markdown",
   "id": "93ee2294-5010-4830-8c58-c9afa6688b0d",
   "metadata": {},
   "source": [
    "Now instead of scaling a circle like this:"
   ]
  },
  {
   "cell_type": "code",
   "execution_count": 55,
   "id": "43831d15-6cfc-449d-b91f-c4d88f1f4fd7",
   "metadata": {},
   "outputs": [
    {
     "name": "stdout",
     "output_type": "stream",
     "text": [
      "25\n",
      "75\n"
     ]
    }
   ],
   "source": [
    "c1  = {\"type\": \"circle\", \"radius\": 25}\n",
    "print(c1[\"radius\"])\n",
    "scale(c1, 3)\n",
    "print(c1[\"radius\"])"
   ]
  },
  {
   "cell_type": "markdown",
   "id": "809d69a3-0f31-426b-8770-9d364a9e6c38",
   "metadata": {},
   "source": [
    "we can do this:"
   ]
  },
  {
   "cell_type": "code",
   "execution_count": 56,
   "id": "61344781-4767-4e18-b4e7-22d8b6039753",
   "metadata": {},
   "outputs": [
    {
     "name": "stdout",
     "output_type": "stream",
     "text": [
      "25\n",
      "75\n"
     ]
    }
   ],
   "source": [
    "c1 = Circle(25)\n",
    "print(c1.radius)\n",
    "c1.scale(3)\n",
    "print(c1.radius)"
   ]
  },
  {
   "cell_type": "markdown",
   "id": "65b57826-f70e-46ea-bd0c-9b6bf9e60330",
   "metadata": {},
   "source": [
    "<span style=\"color:purple;font-weight:bold\">Exercise</span>\n",
    "\n",
    "Fully implement `Square` and `Rect` classes, both with appropriate `area` and `scale` functions.\n",
    "\n",
    "Note that the style guide recommends leaving a blank line between methods (makes it much easier to read):"
   ]
  },
  {
   "cell_type": "code",
   "execution_count": null,
   "id": "4db7b482-804a-42a5-b546-c7621e3f295b",
   "metadata": {
    "scrolled": true
   },
   "outputs": [],
   "source": [
    "class Square:\n",
    "    pass\n",
    "\n",
    "\n",
    "class Rect:\n",
    "    pass\n",
    "\n",
    "\n",
    "class Circle:\n",
    "    def __init__(self, radius):\n",
    "        self.radius = radius\n",
    "        \n",
    "    def area(self):\n",
    "        return math.pi * self.radius ** 2\n",
    "        \n",
    "    def scale(self, factor):\n",
    "        self.radius *= factor\n",
    "        \n",
    "    def __str__(self):\n",
    "        return f\"A circle with radius {self.radius}\"\n",
    "        \n",
    "    def __repr__(self):\n",
    "        return f\"Circle({self.radius})\"\n",
    "\n",
    "\n",
    "# when you've implemented all three, this should work:\n",
    "shapes = [Square(150), Square(99), Rect(50, 150), Circle(25)]\n",
    "print([shape.area() for shape in shapes])\n",
    "for shape in shapes:\n",
    "    shape.scale(3)\n",
    "print(shapes)            # uses __repr__\n",
    "for shape in shapes:\n",
    "    print(shape)         # uses __str__"
   ]
  }
 ],
 "metadata": {
  "authors": [
   {
    "name": "Carol V. Alexandru-Funakoshi"
   }
  ],
  "kernelspec": {
   "display_name": "Python 3 (ipykernel)",
   "language": "python",
   "name": "python3"
  },
  "language_info": {
   "codemirror_mode": {
    "name": "ipython",
    "version": 3
   },
   "file_extension": ".py",
   "mimetype": "text/x-python",
   "name": "python",
   "nbconvert_exporter": "python",
   "pygments_lexer": "ipython3",
   "version": "3.11.5"
  },
  "title": "Info1 Python Tutorial - Part IV"
 },
 "nbformat": 4,
 "nbformat_minor": 5
}
